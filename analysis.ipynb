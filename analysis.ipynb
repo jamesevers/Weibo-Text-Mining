{
 "cells": [
  {
   "cell_type": "code",
   "execution_count": 46,
   "metadata": {
    "collapsed": false
   },
   "outputs": [],
   "source": [
    "#! /usr/bin/env python\n",
    "# encoding: utf-8\n",
    "%matplotlib inline\n",
    "\n",
    "##processing dependencies\n",
    "import pandas as pd\n",
    "import numpy as np\n",
    "import itertools\n",
    "import string\n",
    "from collections import Counter\n",
    "\n",
    "###plotting dependencies\n",
    "import matplotlib.pyplot as plt\n",
    "import seaborn as sns\n",
    "\n",
    "\n",
    "##text processing dependencies\n",
    "import jieba\n",
    "import jieba.analyse\n",
    "import unidecode\n",
    "import re\n",
    "from stopwords import *\n",
    "\n",
    "from __future__ import print_function\n",
    "\n",
    "\n",
    "import cPickle as pickle\n",
    "\n",
    "\n",
    "##similarity metrics\n",
    "from sklearn.metrics.pairwise import cosine_similarity\n",
    "from sklearn.manifold import MDS\n",
    "from scipy.spatial.distance import cdist\n",
    "\n",
    "\n",
    "###text vectorizers\n",
    "from sklearn.feature_extraction.text import CountVectorizer\n",
    "from sklearn.feature_extraction.text import TfidfVectorizer\n",
    "from sklearn.feature_extraction.text import TfidfTransformer\n",
    "\n",
    "###clustering algorithms\n",
    "from sklearn.cluster import KMeans\n",
    "from scipy.cluster.vq import kmeans,vq\n",
    "\n",
    "\n",
    "from sklearn.decomposition import PCA as sklearnPCA\n"
   ]
  },
  {
   "cell_type": "markdown",
   "metadata": {},
   "source": [
    "### Load dataframes"
   ]
  },
  {
   "cell_type": "code",
   "execution_count": 68,
   "metadata": {
    "collapsed": false,
    "scrolled": true
   },
   "outputs": [
    {
     "name": "stdout",
     "output_type": "stream",
     "text": [
      "CPU times: user 41.8 s, sys: 23.4 s, total: 1min 5s\n",
      "Wall time: 1min 56s\n"
     ]
    }
   ],
   "source": [
    "%%time\n",
    "\n",
    "###truncate/get random samples\n",
    "df = pd.read_csv('data/week1.csv', header=0, low_memory=False).iloc[:5000]"
   ]
  },
  {
   "cell_type": "markdown",
   "metadata": {},
   "source": [
    "### Pre-processing"
   ]
  },
  {
   "cell_type": "code",
   "execution_count": 69,
   "metadata": {
    "collapsed": false
   },
   "outputs": [
    {
     "ename": "UnicodeEncodeError",
     "evalue": "'ascii' codec can't encode character u'\\u3002' in position 0: ordinal not in range(128)",
     "output_type": "error",
     "traceback": [
      "\u001b[0;31m---------------------------------------------------------------------------\u001b[0m",
      "\u001b[0;31mUnicodeEncodeError\u001b[0m                        Traceback (most recent call last)",
      "\u001b[0;32m<ipython-input-69-4240f5dcd20e>\u001b[0m in \u001b[0;36m<module>\u001b[0;34m()\u001b[0m\n\u001b[0;32m----> 1\u001b[0;31m \u001b[0mstopwords\u001b[0m \u001b[0;34m=\u001b[0m \u001b[0;34m[\u001b[0m\u001b[0mx\u001b[0m\u001b[0;34m.\u001b[0m\u001b[0mdecode\u001b[0m\u001b[0;34m(\u001b[0m\u001b[0;34m'utf-8'\u001b[0m\u001b[0;34m)\u001b[0m \u001b[0;32mfor\u001b[0m \u001b[0mx\u001b[0m \u001b[0;32min\u001b[0m \u001b[0mstopwords\u001b[0m\u001b[0;34m]\u001b[0m\u001b[0;34m\u001b[0m\u001b[0m\n\u001b[0m",
      "\u001b[0;32m//anaconda/envs/weibos/lib/python2.7/encodings/utf_8.pyc\u001b[0m in \u001b[0;36mdecode\u001b[0;34m(input, errors)\u001b[0m\n\u001b[1;32m     14\u001b[0m \u001b[0;34m\u001b[0m\u001b[0m\n\u001b[1;32m     15\u001b[0m \u001b[0;32mdef\u001b[0m \u001b[0mdecode\u001b[0m\u001b[0;34m(\u001b[0m\u001b[0minput\u001b[0m\u001b[0;34m,\u001b[0m \u001b[0merrors\u001b[0m\u001b[0;34m=\u001b[0m\u001b[0;34m'strict'\u001b[0m\u001b[0;34m)\u001b[0m\u001b[0;34m:\u001b[0m\u001b[0;34m\u001b[0m\u001b[0m\n\u001b[0;32m---> 16\u001b[0;31m     \u001b[0;32mreturn\u001b[0m \u001b[0mcodecs\u001b[0m\u001b[0;34m.\u001b[0m\u001b[0mutf_8_decode\u001b[0m\u001b[0;34m(\u001b[0m\u001b[0minput\u001b[0m\u001b[0;34m,\u001b[0m \u001b[0merrors\u001b[0m\u001b[0;34m,\u001b[0m \u001b[0mTrue\u001b[0m\u001b[0;34m)\u001b[0m\u001b[0;34m\u001b[0m\u001b[0m\n\u001b[0m\u001b[1;32m     17\u001b[0m \u001b[0;34m\u001b[0m\u001b[0m\n\u001b[1;32m     18\u001b[0m \u001b[0;32mclass\u001b[0m \u001b[0mIncrementalEncoder\u001b[0m\u001b[0;34m(\u001b[0m\u001b[0mcodecs\u001b[0m\u001b[0;34m.\u001b[0m\u001b[0mIncrementalEncoder\u001b[0m\u001b[0;34m)\u001b[0m\u001b[0;34m:\u001b[0m\u001b[0;34m\u001b[0m\u001b[0m\n",
      "\u001b[0;31mUnicodeEncodeError\u001b[0m: 'ascii' codec can't encode character u'\\u3002' in position 0: ordinal not in range(128)"
     ]
    }
   ],
   "source": [
    "stopwords = [x.decode('utf-8') for x in stopwords]"
   ]
  },
  {
   "cell_type": "code",
   "execution_count": 72,
   "metadata": {
    "collapsed": false,
    "scrolled": true
   },
   "outputs": [],
   "source": [
    "##pre-processing helper functions\n",
    "\n",
    "\n",
    "def cut_text(text) : return \",\".join(jieba.cut_for_search(text, HMM=True))\n",
    "\n",
    "\n",
    "def remove_ch(text): return \"\".join([x for x in text if x not in stopwords])\n",
    "\n",
    "\n",
    "def remove_punc(text):\n",
    "    exclude = set(string.punctuation)\n",
    "    return \"\".join(ch for ch in text if ch not in exclude)\n",
    "\n",
    "\n",
    "def clean(text) : return list(remove_ch(cut_text(text)))\n",
    "\n",
    "\n",
    "#def check_null(text): return len(text) < 2 or text == 'nan'\n",
    "\n",
    "\n",
    "\n",
    "def preprocess_pipe(df):\n",
    "    df['text'] = df['text'].apply(lambda x : str(x))\n",
    "    df['text'] = df['text'].map(lambda x : clean(x))\n",
    "    df['text'] = df['text'].map(lambda x : x.replace(\" \",\"\"))\n",
    "    df['text'] = df['text'].map(remove_punc)\n",
    "    df[df['text'].map(len) < 2]\n",
    "    df = df.drop_duplicates()\n",
    "    return df\n"
   ]
  },
  {
   "cell_type": "code",
   "execution_count": null,
   "metadata": {
    "collapsed": false,
    "scrolled": true
   },
   "outputs": [],
   "source": [
    "%%time\n",
    "clean_df = preprocess_pipe(df)"
   ]
  },
  {
   "cell_type": "code",
   "execution_count": 70,
   "metadata": {
    "collapsed": false
   },
   "outputs": [
    {
     "data": {
      "text/plain": [
       "0                                                    转发微博\n",
       "1            !!!!!!!!!@uK3RXUYW3： //@u0AGMTTVD：  ！！！！！！！！\n",
       "2                                                求一切順利!!!\n",
       "3                       想要><@uK3RXUYW3： //@ukn：  全都想要啊QAQ\n",
       "4                            //@ukn：  //@uMLLV3ZCO：  转发微博\n",
       "5       //@ukn：  //@ukn：  吐槽点太多- -//@ukn：  竟然没被吐槽//@uk...\n",
       "6       係時侯迫害下大家~@uK3RXUYW3： @ukn： @ukn： @uQSMQTGXO： @...\n",
       "7                                                 他又抽了xdd\n",
       "8                                                     哈哈哈\n",
       "9                  @uK3RXUYW3： //@ukn：  //@ukn：  [可怜][可怜]\n",
       "10              太萌了><//@uKPK1KLQA：  边叠衣服边「味覚トゥッ~」也太萌了[发嗲]\n",
       "11                                           //@ukn：  ！！！\n",
       "12      霸气~//@ukn：  [太開心]//@uW0ECUEMG：  [good]//@ukn： ...\n",
       "13      //@ukn：  //@uOQZ5JAJB：  5.利达从头到尾都很紧张的样子，让看着的我都...\n",
       "14      //@ukn：  //@ukn：  //@uVEQEW1R2：  //@ukn：  [心][...\n",
       "15      //@ukn：  美[花心]//@ukn：  @ukn： //@ukn：  //@uB4HS...\n",
       "16             //@ukn：  //@uW0EHZTCF：  年末真好看//@ukn：  转发微博\n",
       "17               //@uJWAA50NU：  這part我看不下十次了, 覺得比逃走更好笑XDD\n",
       "18      噗...//@ukn：  //@ukn：  真纯情//@uW0EHUIOG：  噗…好闷骚啊...\n",
       "19                                          //@ukn：  轉發微博\n",
       "20                             //@ukn：  //@ukn：  !!!!!!!!\n",
       "21                            //@ukn：  //@uMLLV3ZCO：  [心]\n",
       "22                                                   沒事吧?\n",
       "23                          ><//@ukn：  最喜歡這張了！！！！！>/////<\n",
       "24      @uK3RXUYW3： //@uBK1TNTG4：  嗯，一直都很亞撒西[心]//@uFAG...\n",
       "25                                          //@ukn：  轉發微博\n",
       "26                                                好性感的奶嘴~\n",
       "27                           //@ukn：  //@uEMBAKWWR：  轉發微博\n",
       "28                    //@ukn：  ><//@uVGJCZUP4：  早上好! [兔子]\n",
       "29      剛已經有人打電話告訴我了= =//@uK3RXUYW3：  !!!!!!!!!!!@ukn：...\n",
       "                              ...                        \n",
       "4970                                                 轉發微博\n",
       "4971                    好萌哦…女人们最值得骄傲的是上天给你一张可爱的娃娃脸…万年吃香啊…\n",
       "4972                                                哦…年会啦\n",
       "4973                                        复式自助餐盘…你能摞几层?\n",
       "4974                             有时，谎言只是一种保护，不知道真相也是一种幸福。\n",
       "4975                     妹，你是最好的！//@uYC3EFFW4：  [心][心][心]\n",
       "4976                                                 转发微博\n",
       "4977    @u1CI0ABRR： //@uBK14CL3H： 熊猫大叔赶紧给我们这些子民抢个压寨夫人回...\n",
       "4978                                     [给力][给力][给力]果然给力\n",
       "4979                                                 转发微博\n",
       "4980                                                 转发微博\n",
       "4981                                                 转发微博\n",
       "4982                熊猫大叔赶紧给我们这些子民抢个压寨夫人回来吧，要不然我们安排你去相亲哈哈！\n",
       "4983               微博办的傻子瞎眼晚会，什么一呼百应什么国王和王后，绝对没睁眼[睡觉][闭嘴]\n",
       "4984    杨幂 和 张杰 为什么这么红--- 杨幂很有演技吗？很漂亮吗？为人很有修养吗？ 也不晓得和多...\n",
       "4985                                                 转发微博\n",
       "4986         @u1CI0ABRR： 本想半夜潛潛水，看些資料。卻看到這張圖表....奇國...还可以\n",
       "4987                                                转发微博。\n",
       "4988                                             我眼里只有陈信宏\n",
       "4989                                             [bobo膜拜]\n",
       "4990                                             大命不死必有后福\n",
       "4991    //@uWYNWPGNX：  //@uQHCCCT34：  急速转发[蜡烛] //@uWWB...\n",
       "4992    希望是人贩子！//@uKPK10JPP：  希望那女的是人贩子 ....//@ukn：  扩...\n",
       "4993                               真可怜，//@ukn： 转发微博 [书呆子]\n",
       "4994    //@uM1UZ2HON： // @uHQYOGNLT： :大家转起来 //  @uZ32N...\n",
       "4995      //@ukn：  //@uSIAEBBIO： // @uLUCBO4UQ： :可转发，帮助弱者\n",
       "4996                                                转发微博。\n",
       "4997    让宝贝回家//@uONPG1IH2：  //@uII5MIV2H：  让这个孩子早点回家//...\n",
       "4998                                            哎...可怜的孩子\n",
       "4999                    //@u3FT1GIUC：  //@u0Y1X5LVI：  关注！\n",
       "Name: text, dtype: object"
      ]
     },
     "execution_count": 70,
     "metadata": {},
     "output_type": "execute_result"
    }
   ],
   "source": [
    "df.text"
   ]
  },
  {
   "cell_type": "markdown",
   "metadata": {},
   "source": [
    "### Pipeline for K-means clustering"
   ]
  },
  {
   "cell_type": "code",
   "execution_count": 3,
   "metadata": {
    "collapsed": false
   },
   "outputs": [
    {
     "ename": "NameError",
     "evalue": "name 'df' is not defined",
     "output_type": "error",
     "traceback": [
      "\u001b[0;31m---------------------------------------------------------------------------\u001b[0m",
      "\u001b[0;31mNameError\u001b[0m                                 Traceback (most recent call last)",
      "\u001b[0;32m<ipython-input-3-b075edb617a0>\u001b[0m in \u001b[0;36m<module>\u001b[0;34m()\u001b[0m\n\u001b[1;32m     53\u001b[0m \u001b[0;34m\u001b[0m\u001b[0m\n\u001b[1;32m     54\u001b[0m \u001b[0;34m\u001b[0m\u001b[0m\n\u001b[0;32m---> 55\u001b[0;31m \u001b[0mpipeline\u001b[0m\u001b[0;34m(\u001b[0m\u001b[0mdf\u001b[0m\u001b[0;34m.\u001b[0m\u001b[0mtext\u001b[0m\u001b[0;34m,\u001b[0m \u001b[0mn_clusters\u001b[0m\u001b[0;34m=\u001b[0m\u001b[0;36m2\u001b[0m\u001b[0;34m)\u001b[0m\u001b[0;34m\u001b[0m\u001b[0m\n\u001b[0m",
      "\u001b[0;31mNameError\u001b[0m: name 'df' is not defined"
     ]
    }
   ],
   "source": [
    "###function pipeline\n",
    "\n",
    "\n",
    "##create tf-idf matrix\n",
    "def tfidf(data):\n",
    "    ##instantiate classifier\n",
    "    tfidf_vectorizer = TfidfVectorizer(min_df=.01, max_df=.8, ngram_range=(1,2))\n",
    "    #generate matrix\n",
    "    k = tfidf_vectorizer.fit_transform(data)\n",
    "    return tfidf_vectorizer.fit_transform(data) #fit the vectorizer to synopses\n",
    "\n",
    "\n",
    "###run k-means on tf-idf matrix\n",
    "def k_means(data, num_clusters):\n",
    "    km = KMeans(n_clusters=num_clusters)\n",
    "    km.fit(data)\n",
    "    clusters = km.labels_.tolist()\n",
    "    return km, clusters\n",
    "\n",
    "##extract feature words\n",
    "def feature_terms(data):\n",
    "    tfidf_vectorizer = TfidfVectorizer(max_df=.8, min_df=.01, ngram_range=(1,2))\n",
    "    #tfidf_vectorizer = TfidfVectorizer(max_df=.8, min_df=.01, ngram_range=(1,2))\n",
    "    vectors = tfidf_vectorizer.fit(data)\n",
    "    return tfidf_vectorizer.get_feature_names()\n",
    "\n",
    "##find the terms with highest tf-idf score\n",
    "def get_top_terms(km, review_terms, num_clusters):\n",
    "    print(\"Top terms per cluster:\")\n",
    "    print()\n",
    "\n",
    "    #sort cluster centers by proximity to centroid\n",
    "    order_centroids = km.cluster_centers_.argsort()[:, ::-1] \n",
    "\n",
    "    for i in range(1,num_clusters):\n",
    "        print(\"Cluster %d words:\" % i, end='')\n",
    "\n",
    "        for ind in order_centroids[i, :10]: #replace 11 with n words per cluster\n",
    "            print(' %s' % review_terms[ind], end=',')\n",
    "        print() #add whitespace\n",
    "        print() #add whitespace\n",
    "\n",
    "    print()\n",
    "    print()\n",
    "\n",
    "\n",
    "##run functions sequentially  \n",
    "def pipeline(text, n_clusters):\n",
    "    matrix = tfidf(text)\n",
    "    km, clusters = k_means(matrix, n_clusters)\n",
    "    features = feature_terms(text)\n",
    "    terms = get_top_terms(km, features, n_clusters)\n",
    "    return terms\n",
    "\n",
    "\n",
    "pipeline(df.text, n_clusters=2)"
   ]
  },
  {
   "cell_type": "markdown",
   "metadata": {},
   "source": [
    "### Pipeline for PCA"
   ]
  },
  {
   "cell_type": "code",
   "execution_count": 7,
   "metadata": {
    "collapsed": false
   },
   "outputs": [],
   "source": [
    "from sklearn.feature_extraction.text import CountVectorizer, TfidfTransformer\n",
    "from sklearn.decomposition import PCA\n",
    "from sklearn.pipeline import Pipeline\n",
    "import matplotlib.pyplot as plt\n",
    "\n",
    "def pca(text):\n",
    "    X = tfidf(text).todense()\n",
    "    \n",
    "    color = ['r','b','g']\n",
    "\n",
    "    pca = PCA(n_components=3).fit(X)\n",
    "    data2D = pca.transform(X)\n",
    "    plt.scatter(data2D[:,0], data2D[:,1], c=color)\n",
    "    plt.xlabel('Principal Component 1')\n",
    "    plt.ylabel('Principal Component 2')\n",
    "    plt.title(\"K-means Principal Components\")\n",
    "    plt.show()    "
   ]
  },
  {
   "cell_type": "code",
   "execution_count": 8,
   "metadata": {
    "collapsed": false,
    "scrolled": true
   },
   "outputs": [
    {
     "name": "stdout",
     "output_type": "stream",
     "text": [
      "(11338, 88)\n"
     ]
    },
    {
     "data": {
      "image/png": "[encoded data removed]",
      "text/plain": [
       "<matplotlib.figure.Figure at 0x11c9f9550>"
      ]
     },
     "metadata": {},
     "output_type": "display_data"
    }
   ],
   "source": [
    "pca(weibo.text)"
   ]
  },
  {
   "cell_type": "markdown",
   "metadata": {},
   "source": [
    "### Pipeline for LDA"
   ]
  },
  {
   "cell_type": "code",
   "execution_count": null,
   "metadata": {
    "collapsed": false,
    "scrolled": false
   },
   "outputs": [],
   "source": [
    "def lda_pipe(data, n_topics, n_top_words):\n",
    "    \n",
    "    n_features = 100\n",
    "    data_samples = data\n",
    "    n_topics = n_topics\n",
    "    n_top_words = n_top_words\n",
    "    \n",
    "    \n",
    "\n",
    "    def print_top_words(model, feature_names, n_top_words):\n",
    "        terms = []\n",
    "        for topic_idx, topic in enumerate(model.components_):\n",
    "            print(\"Topic #%d:\" % topic_idx)\n",
    "            print(\" \".join([feature_names[i] for i in topic.argsort()[:-n_top_words:-1]]))\n",
    "            terms.append(\" \".join([feature_names[i] for i in topic.argsort()[:-n_top_words:-1]]))\n",
    "        return terms\n",
    "        \n",
    "    def lda_dict(model, feature_names, n_top_words):\n",
    "        lda_dict = dict()\n",
    "        for topic_idx, topic in enumerate(model.components_):\n",
    "            print(\"Topic #%d:\" % topic_idx)\n",
    "            features, rank = [],[]\n",
    "            features.append(\" \".join([feature_names[i] for i in topic.argsort()[:-n_top_words:-1]]))\n",
    "            rank.append(topic[:-n_top_words-1:-1])\n",
    "            d = dict(zip(features,rank))\n",
    "            lda_dict[topic_idx] = {k:v for k,v in d.items()}\n",
    "        return lda_dict\n",
    "\n",
    "        \n",
    "\n",
    "#     # Use tf-idf features for NMF.\n",
    "#     print(\"Extracting tf-idf features for NMF...\")\n",
    "#     tfidf_vectorizer = TfidfVectorizer(max_df=0.95, min_df=.01) #max_features=n_features\n",
    "\n",
    "#     tfidf = tfidf_vectorizer.fit_transform(data_samples)\n",
    "\n",
    "    # Use tf (raw term count) features for LDA.\n",
    "    print(\"Extracting tf features for LDA...\")\n",
    "    tf_vectorizer = CountVectorizer(max_df=0.95, min_df=.01, max_features=n_features)\n",
    "\n",
    "    tf = tf_vectorizer.fit_transform(data_samples)\n",
    "\n",
    "#     # Fit the NMF model\n",
    "\n",
    "#     nmf = NMF(n_components=n_topics, random_state=1, alpha=.1, l1_ratio=.5).fit(tfidf)\n",
    "\n",
    "\n",
    "#     print(\"\\nTopics in NMF model:\")\n",
    "#     print()\n",
    "#     print()\n",
    "#     tfidf_feature_names = tfidf_vectorizer.get_feature_names()\n",
    "#     print_top_words(nmf, tfidf_feature_names, n_top_words)\n",
    "\n",
    "\n",
    "    lda = LatentDirichletAllocation(n_topics=n_topics, max_iter=10,\n",
    "                                    learning_method='online', learning_offset=50.,\n",
    "                                    random_state=1)\n",
    "\n",
    "    lda.fit(tf)\n",
    "\n",
    "\n",
    "    print(\"\\nTopics in LDA model:\")\n",
    "    print()\n",
    "    print()\n",
    "    tf_feature_names = tf_vectorizer.get_feature_names()\n",
    "    print_top_words(lda, tf_feature_names, n_top_words)\n",
    "    \n",
    "    \n",
    "lda_pipe(weibo.text, 6, 15)"
   ]
  },
  {
   "cell_type": "code",
   "execution_count": null,
   "metadata": {
    "collapsed": false
   },
   "outputs": [],
   "source": [
    "##modify function for application\n",
    "\n",
    "def lda_generator(data_samples, n_top_words, n_topics):\n",
    "    n_features = 100\n",
    "    data_samples = data_samples\n",
    "    n_topics = n_topics\n",
    "    n_top_words = n_top_words\n",
    "    \n",
    "    tf_vectorizer = CountVectorizer(max_df=0.95, min_df=.01,ngram_range=(1,2), max_features=n_features)\n",
    "    \n",
    "    tf_matrix = tf_vectorizer.fit_transform(data_samples)\n",
    "    \n",
    "    lda = LatentDirichletAllocation(n_topics=n_topics, max_iter=10,\n",
    "                                learning_method='online', learning_offset=50.,\n",
    "                                random_state=1)\n",
    "    lda.fit(tf_matrix)\n",
    "    \n",
    "    feature_names = tf_vectorizer.get_feature_names()\n",
    "    \n",
    "    terms_zh = []\n",
    "\n",
    "    \n",
    "    for topic_idx, topic in enumerate(lda.components_):\n",
    "        lda_topics = (\" \".join([feature_names[i] for i in topic.argsort()[:-n_top_words:-1]]))\n",
    "        print(lda_topics)\n",
    "        terms_zh.append(lda_topics)\n",
    "        \n",
    "    return terms_zh\n"
   ]
  },
  {
   "cell_type": "code",
   "execution_count": null,
   "metadata": {
    "collapsed": false
   },
   "outputs": [],
   "source": [
    "test = lda_generator(weibo.text, 10, 5)"
   ]
  },
  {
   "cell_type": "markdown",
   "metadata": {},
   "source": [
    "### LDA Visual"
   ]
  },
  {
   "cell_type": "markdown",
   "metadata": {},
   "source": [
    "### dataframe of tf-idf matrix"
   ]
  },
  {
   "cell_type": "code",
   "execution_count": null,
   "metadata": {
    "collapsed": true
   },
   "outputs": [],
   "source": [
    "def vector_df(corpus):\n",
    "    vectorizer = CountVectorizer(ngram_range=(1,2))\n",
    "    X = vectorizer.fit_transform(corpus).toarray()\n",
    "    return pd.DataFrame(X,columns=vectorizer.get_feature_names())\n",
    "vectorized_df = vector_df(weibo.text)"
   ]
  },
  {
   "cell_type": "markdown",
   "metadata": {},
   "source": [
    "### Plot elbows and K-means clusters:"
   ]
  },
  {
   "cell_type": "code",
   "execution_count": 62,
   "metadata": {
    "collapsed": false,
    "scrolled": true
   },
   "outputs": [
    {
     "data": {
      "image/png": "[encoded data removed]",
      "text/plain": [
       "<matplotlib.figure.Figure at 0x12045b990>"
      ]
     },
     "metadata": {},
     "output_type": "display_data"
    }
   ],
   "source": [
    "def plot_kmeans(data):\n",
    "    tfidf = TfidfVectorizer(min_df=.01, ngram_range=(1,2))\n",
    "    X = tfidf.fit_transform(data).todense()\n",
    "\n",
    "    ##### cluster data into K=1..10 clusters #####\n",
    "    K = range(1,10)\n",
    "\n",
    "    # scipy kmeans module for each value of k:\n",
    "    KM = [kmeans(X,k) for k in K]\n",
    "    ##list comprehension to cluster centroids\n",
    "    centroids = [cent for (cent,var) in KM]\n",
    "\n",
    "\n",
    "    # alternative: scipy.spatial.distance.cdist\n",
    "    D_k = [cdist(X, cent, 'euclidean') for cent in centroids]\n",
    "    cIdx = [np.argmin(D,axis=1) for D in D_k]\n",
    "    dist = [np.min(D,axis=1) for D in D_k]\n",
    "    avgWithinSS = [sum(d)/X.shape[0] for d in dist]\n",
    "\n",
    "    ##### plot ###\n",
    "    kIdx = 4\n",
    "\n",
    "    # elbow curve\n",
    "    fig = plt.figure()\n",
    "    ax = fig.add_subplot(111)\n",
    "    ax.plot(K, avgWithinSS, 'b*-')\n",
    "    ax.plot(K[kIdx], avgWithinSS[kIdx], marker='x', markersize=12, \n",
    "        markeredgewidth=2, markeredgecolor='r', markerfacecolor='None')\n",
    "    plt.grid(True)\n",
    "    plt.xlabel('Number of clusters')\n",
    "    plt.ylabel('Average within-cluster sum of squares')\n",
    "    plt.title('Elbow for KMeans clustering')\n",
    "\n",
    "    # scatter plot\n",
    "#     fig = plt.figure()\n",
    "#     ax = fig.add_subplot(111)\n",
    "#     #ax.scatter(X[:,2],X[:,1], s=30, c=cIdx[k])\n",
    "#     clr = ['b','g','r','c','m','y','k']\n",
    "#     for i in range(K[kIdx]):\n",
    "#         ind = (cIdx[kIdx]==i)\n",
    "#         ax.scatter(X[ind,1],X[ind,2], s=30, c=clr[i], label='Cluster %d'%i)\n",
    "#     plt.xlabel('x')\n",
    "#     plt.ylabel('y')\n",
    "#     plt.title('Censored Tweet Clusters with K=%d' % K[kIdx])\n",
    "#     plt.legend()\n",
    "\n",
    "plot_kmeans(df.text)"
   ]
  },
  {
   "cell_type": "code",
   "execution_count": null,
   "metadata": {
    "collapsed": true
   },
   "outputs": [],
   "source": []
  }
 ],
 "metadata": {
  "kernelspec": {
   "display_name": "Python [weibos]",
   "language": "python",
   "name": "Python [weibos]"
  },
  "language_info": {
   "codemirror_mode": {
    "name": "ipython",
    "version": 2
   },
   "file_extension": ".py",
   "mimetype": "text/x-python",
   "name": "python",
   "nbconvert_exporter": "python",
   "pygments_lexer": "ipython2",
   "version": "2.7.12"
  }
 },
 "nbformat": 4,
 "nbformat_minor": 0
}
