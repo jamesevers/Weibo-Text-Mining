{
 "cells": [
  {
   "cell_type": "code",
   "execution_count": 1,
   "metadata": {
    "collapsed": false
   },
   "outputs": [
    {
     "name": "stderr",
     "output_type": "stream",
     "text": [
      "/Users/jamesevers/anaconda/lib/python2.7/site-packages/matplotlib/__init__.py:872: UserWarning: axes.color_cycle is deprecated and replaced with axes.prop_cycle; please use the latter.\n",
      "  warnings.warn(self.msg_depr % (key, alt_key))\n"
     ]
    }
   ],
   "source": [
    "#! /usr/bin/env python\n",
    "# encoding: utf-8\n",
    "%matplotlib inline\n",
    "import pandas as pd\n",
    "import numpy as np\n",
    "import itertools\n",
    "import matplotlib.pyplot as plt\n",
    "import seaborn as sns\n",
    "from scipy import cluster\n",
    "from scipy.cluster.vq import kmeans,vq\n",
    "from time import time\n",
    "import time\n",
    "import datetime\n",
    "\n",
    "import jieba\n",
    "import jieba.analyse\n",
    "\n",
    "from __future__ import print_function\n",
    "\n",
    "\n",
    "import unidecode\n",
    "from nltk.chunk import ne_chunk\n",
    "import gensim\n",
    "import logging\n",
    "import codecs\n",
    "import cPickle as pickle\n",
    "import re\n",
    "from sklearn.metrics.pairwise import cosine_similarity\n",
    "from sklearn.manifold import MDS\n",
    "from sklearn.feature_extraction.text import CountVectorizer\n",
    "from sklearn.feature_extraction.text import TfidfVectorizer\n",
    "from sklearn.feature_extraction.text import TfidfTransformer\n",
    "from sklearn.naive_bayes import GaussianNB\n",
    "from sklearn.metrics.pairwise import cosine_similarity\n",
    "from sklearn.naive_bayes import MultinomialNB\n",
    "from sklearn.cross_validation import train_test_split\n",
    "from sklearn.decomposition import PCA as sklearnPCA\n",
    "from sklearn.cluster import KMeans\n",
    "from collections import Counter\n",
    "from scipy.cluster.vq import kmeans,vq\n",
    "from scipy.spatial.distance import cdist\n",
    "import matplotlib.pyplot as plt\n",
    "\n",
    "from microsofttranslator import Translator"
   ]
  },
  {
   "cell_type": "markdown",
   "metadata": {},
   "source": [
    "### Load dataframes"
   ]
  },
  {
   "cell_type": "code",
   "execution_count": 2,
   "metadata": {
    "collapsed": false,
    "scrolled": true
   },
   "outputs": [],
   "source": [
    "###load pickled data\n",
    "# ok = pd.read_csv('data/week1.csv', header=0)\n",
    "weibo = pickle.load(open(\"verboten.p\",\"rb\"))"
   ]
  },
  {
   "cell_type": "code",
   "execution_count": 3,
   "metadata": {
    "collapsed": true
   },
   "outputs": [],
   "source": [
    "shortened = weibo[:500]"
   ]
  },
  {
   "cell_type": "code",
   "execution_count": null,
   "metadata": {
    "collapsed": true
   },
   "outputs": [],
   "source": [
    "# ok = ok.iloc[np.random.permutation(len(ok))][:len(forbidden)]"
   ]
  },
  {
   "cell_type": "code",
   "execution_count": null,
   "metadata": {
    "collapsed": false
   },
   "outputs": [],
   "source": [
    "# frames = [ok,forbidden]\n",
    "# weibo = pd.concat(frames)"
   ]
  },
  {
   "cell_type": "markdown",
   "metadata": {},
   "source": [
    "### Pre-processing"
   ]
  },
  {
   "cell_type": "code",
   "execution_count": 5,
   "metadata": {
    "collapsed": false,
    "scrolled": true
   },
   "outputs": [
    {
     "name": "stderr",
     "output_type": "stream",
     "text": [
      "Building prefix dict from /Users/jamesevers/anaconda/lib/python2.7/site-packages/jieba/dict.txt ...\n",
      "DEBUG:jieba:Building prefix dict from /Users/jamesevers/anaconda/lib/python2.7/site-packages/jieba/dict.txt ...\n",
      "Dumping model to file cache /var/folders/zk/zh9sqr0n2n91v0smc5ypcz7w0000gn/T/jieba.cache\n",
      "DEBUG:jieba:Dumping model to file cache /var/folders/zk/zh9sqr0n2n91v0smc5ypcz7w0000gn/T/jieba.cache\n",
      "Loading model cost 4.67951893806 seconds.\n",
      "DEBUG:jieba:Loading model cost 4.67951893806 seconds.\n",
      "Prefix dict has been built succesfully.\n",
      "DEBUG:jieba:Prefix dict has been built succesfully.\n",
      "/Users/jamesevers/anaconda/lib/python2.7/site-packages/ipykernel/__main__.py:18: SettingWithCopyWarning: \n",
      "A value is trying to be set on a copy of a slice from a DataFrame.\n",
      "Try using .loc[row_indexer,col_indexer] = value instead\n",
      "\n",
      "See the caveats in the documentation: http://pandas.pydata.org/pandas-docs/stable/indexing.html#indexing-view-versus-copy\n",
      "/Users/jamesevers/anaconda/lib/python2.7/site-packages/ipykernel/__main__.py:19: SettingWithCopyWarning: \n",
      "A value is trying to be set on a copy of a slice from a DataFrame.\n",
      "Try using .loc[row_indexer,col_indexer] = value instead\n",
      "\n",
      "See the caveats in the documentation: http://pandas.pydata.org/pandas-docs/stable/indexing.html#indexing-view-versus-copy\n"
     ]
    }
   ],
   "source": [
    "##pre-processing pipeline\n",
    "def cut_text(text) : return \",\".join(jieba.cut_for_search(text, HMM=True))\n",
    "\n",
    "\n",
    "def remove_ch(text):\n",
    "    chars = ['。！~～，［］【】![:] “：@/_^,?？…转发微博一个#ABCDEFGHIJKLMNOPQRSTUVWXYZabcd回复自efghijklmnopqrstuvwxyz1234567890\"知多少道哈呵嘻时候的一不在有是为以于通过上他而后之来及了因下可到由这与也此但并个其已无小我们起最再今去好只又或很亦某把那你乃它吧被比别趁当从到得打凡儿尔该各给跟和何还即几既看据距靠啦了另么每们拿哪那您凭且却让仍啥如若使谁虽随同所她哇嗡往哪些向沿哟用于咱则怎曾至致着诸']\n",
    "    chars = cut_text(chars[0])\n",
    "    return \"\".join([x for x in text if x not in chars])\n",
    "\n",
    "\n",
    "def clean(text) : return cut_text(remove_ch(cut_text(text)))\n",
    "\n",
    "\n",
    "def check_null(text): return len(text) < 2\n",
    "\n",
    "\n",
    "def pp_pipe(df):\n",
    "    df['text'] = df['text'].map(clean)\n",
    "    df['nulls'] = df['text'].map(check_null)\n",
    "    df = df.drop_duplicates()\n",
    "    return df[df.nulls != True]\n",
    "\n",
    "\n",
    "weibo = pp_pipe(shortened)"
   ]
  },
  {
   "cell_type": "code",
   "execution_count": 8,
   "metadata": {
    "collapsed": false
   },
   "outputs": [
    {
     "data": {
      "text/plain": [
       "unicode"
      ]
     },
     "execution_count": 8,
     "metadata": {},
     "output_type": "execute_result"
    }
   ],
   "source": [
    "type(weibo['text'][321847])"
   ]
  },
  {
   "cell_type": "markdown",
   "metadata": {},
   "source": [
    "### Pipeline for K-means clustering"
   ]
  },
  {
   "cell_type": "code",
   "execution_count": 4,
   "metadata": {
    "collapsed": false
   },
   "outputs": [
    {
     "name": "stdout",
     "output_type": "stream",
     "text": [
      "(11338, 88)\n",
      "Top terms per cluster:\n",
      "\n",
      "Cluster 0 words: 政府, 中国, 人民, 领导, 大家, 工作, 网友, 百姓, 报告, 要求,\n",
      "\n",
      "Cluster 1 words: 代表, 重庆, 人民, 偷笑, 国家, 政治, 支持, 围观, 关注, 北京,\n",
      "\n",
      "Cluster 2 words: 社会, 主义, 国家, 中国, 官员, 民主, 政府, 问题, 人民, 政治,\n",
      "\n",
      "Cluster 3 words: 巴达, 斯巴达, 巴达 斯巴达, 巴达 巴达, 新闻, 记者, 北京, 美国, 人民, 偷笑,\n",
      "\n",
      "Cluster 4 words: 中国, 美国, 国家, 人民, 民主, 政治, 世界, 历史, 问题, 主席,\n",
      "\n",
      "\n",
      "\n"
     ]
    }
   ],
   "source": [
    "###function pipeline\n",
    "\n",
    "##create tf-idf matrix\n",
    "def tfidf(data):\n",
    "    ##instantiate classifier\n",
    "    tfidf_vectorizer = TfidfVectorizer(min_df=.01, max_df=.8, ngram_range=(1,2))\n",
    "    #generate matrix\n",
    "    k = tfidf_vectorizer.fit_transform(data)\n",
    "    print(k.shape)\n",
    "    return tfidf_vectorizer.fit_transform(data) #fit the vectorizer to synopses\n",
    "\n",
    "\n",
    "###run k-means on tf-idf matrix\n",
    "def k_means(data, num_clusters):\n",
    "    km = KMeans(n_clusters=num_clusters)\n",
    "    km.fit(data)\n",
    "    clusters = km.labels_.tolist()\n",
    "    return km, clusters\n",
    "\n",
    "##extract feature words\n",
    "def feature_terms(data):\n",
    "    tfidf_vectorizer = TfidfVectorizer(max_df=.8, min_df=.01, ngram_range=(1,2))\n",
    "    #tfidf_vectorizer = TfidfVectorizer(max_df=.8, min_df=.01, ngram_range=(1,2))\n",
    "    vectors = tfidf_vectorizer.fit(data)\n",
    "    return tfidf_vectorizer.get_feature_names()\n",
    "\n",
    "##find the terms with highest tf-idf score\n",
    "def get_top_terms(km, review_terms, num_clusters):\n",
    "    print(\"Top terms per cluster:\")\n",
    "    print()\n",
    "\n",
    "    #sort cluster centers by proximity to centroid\n",
    "    order_centroids = km.cluster_centers_.argsort()[:, ::-1] \n",
    "\n",
    "    for i in range(num_clusters):\n",
    "        print(\"Cluster %d words:\" % i, end='')\n",
    "\n",
    "        for ind in order_centroids[i, :10]: #replace 11 with n words per cluster\n",
    "            print(' %s' % review_terms[ind], end=',')\n",
    "        print() #add whitespace\n",
    "        print() #add whitespace\n",
    "\n",
    "    print()\n",
    "    print()\n",
    "    \n",
    "##run functions sequentially  \n",
    "def pipeline(text, n_clusters):\n",
    "    matrix = tfidf(text)\n",
    "    km, clusters = k_means(matrix, n_clusters)\n",
    "    features = feature_terms(text)\n",
    "    terms = get_top_terms(km, features, n_clusters)\n",
    "    return terms\n",
    "\n",
    "pipeline(weibo.text, n_clusters=5)"
   ]
  },
  {
   "cell_type": "markdown",
   "metadata": {},
   "source": [
    "### Pipeline for PCA"
   ]
  },
  {
   "cell_type": "code",
   "execution_count": 7,
   "metadata": {
    "collapsed": false
   },
   "outputs": [],
   "source": [
    "from sklearn.feature_extraction.text import CountVectorizer, TfidfTransformer\n",
    "from sklearn.decomposition import PCA\n",
    "from sklearn.pipeline import Pipeline\n",
    "import matplotlib.pyplot as plt\n",
    "\n",
    "def pca(text):\n",
    "    X = tfidf(text).todense()\n",
    "    \n",
    "    color = ['r','b','g']\n",
    "\n",
    "    pca = PCA(n_components=3).fit(X)\n",
    "    data2D = pca.transform(X)\n",
    "    plt.scatter(data2D[:,0], data2D[:,1], c=color)\n",
    "    plt.xlabel('Principal Component 1')\n",
    "    plt.ylabel('Principal Component 2')\n",
    "    plt.title(\"K-means Principal Components\")\n",
    "    plt.show()    "
   ]
  },
  {
   "cell_type": "code",
   "execution_count": 8,
   "metadata": {
    "collapsed": false,
    "scrolled": true
   },
   "outputs": [
    {
     "name": "stdout",
     "output_type": "stream",
     "text": [
      "(11338, 88)\n"
     ]
    },
    {
     "data": {
      "image/png": "[encoded data removed]",
      "text/plain": [
       "<matplotlib.figure.Figure at 0x11c9f9550>"
      ]
     },
     "metadata": {},
     "output_type": "display_data"
    }
   ],
   "source": [
    "pca(weibo.text)"
   ]
  },
  {
   "cell_type": "markdown",
   "metadata": {},
   "source": [
    "### Pipeline for LDA"
   ]
  },
  {
   "cell_type": "code",
   "execution_count": null,
   "metadata": {
    "collapsed": false,
    "scrolled": false
   },
   "outputs": [],
   "source": [
    "def lda_pipe(data, n_topics, n_top_words):\n",
    "    \n",
    "    n_features = 100\n",
    "    data_samples = data\n",
    "    n_topics = n_topics\n",
    "    n_top_words = n_top_words\n",
    "    \n",
    "    \n",
    "\n",
    "    def print_top_words(model, feature_names, n_top_words):\n",
    "        terms = []\n",
    "        for topic_idx, topic in enumerate(model.components_):\n",
    "            print(\"Topic #%d:\" % topic_idx)\n",
    "            print(\" \".join([feature_names[i] for i in topic.argsort()[:-n_top_words:-1]]))\n",
    "            terms.append(\" \".join([feature_names[i] for i in topic.argsort()[:-n_top_words:-1]]))\n",
    "        return terms\n",
    "        \n",
    "    def lda_dict(model, feature_names, n_top_words):\n",
    "        lda_dict = dict()\n",
    "        for topic_idx, topic in enumerate(model.components_):\n",
    "            print(\"Topic #%d:\" % topic_idx)\n",
    "            features, rank = [],[]\n",
    "            features.append(\" \".join([feature_names[i] for i in topic.argsort()[:-n_top_words:-1]]))\n",
    "            rank.append(topic[:-n_top_words-1:-1])\n",
    "            d = dict(zip(features,rank))\n",
    "            lda_dict[topic_idx] = {k:v for k,v in d.items()}\n",
    "        return lda_dict\n",
    "\n",
    "        \n",
    "\n",
    "#     # Use tf-idf features for NMF.\n",
    "#     print(\"Extracting tf-idf features for NMF...\")\n",
    "#     tfidf_vectorizer = TfidfVectorizer(max_df=0.95, min_df=.01) #max_features=n_features\n",
    "\n",
    "#     tfidf = tfidf_vectorizer.fit_transform(data_samples)\n",
    "\n",
    "    # Use tf (raw term count) features for LDA.\n",
    "    print(\"Extracting tf features for LDA...\")\n",
    "    tf_vectorizer = CountVectorizer(max_df=0.95, min_df=.01, max_features=n_features)\n",
    "\n",
    "    tf = tf_vectorizer.fit_transform(data_samples)\n",
    "\n",
    "#     # Fit the NMF model\n",
    "\n",
    "#     nmf = NMF(n_components=n_topics, random_state=1, alpha=.1, l1_ratio=.5).fit(tfidf)\n",
    "\n",
    "\n",
    "#     print(\"\\nTopics in NMF model:\")\n",
    "#     print()\n",
    "#     print()\n",
    "#     tfidf_feature_names = tfidf_vectorizer.get_feature_names()\n",
    "#     print_top_words(nmf, tfidf_feature_names, n_top_words)\n",
    "\n",
    "\n",
    "    lda = LatentDirichletAllocation(n_topics=n_topics, max_iter=10,\n",
    "                                    learning_method='online', learning_offset=50.,\n",
    "                                    random_state=1)\n",
    "\n",
    "    lda.fit(tf)\n",
    "\n",
    "\n",
    "    print(\"\\nTopics in LDA model:\")\n",
    "    print()\n",
    "    print()\n",
    "    tf_feature_names = tf_vectorizer.get_feature_names()\n",
    "    print_top_words(lda, tf_feature_names, n_top_words)\n",
    "    \n",
    "    \n",
    "lda_pipe(weibo.text, 6, 15)"
   ]
  },
  {
   "cell_type": "code",
   "execution_count": null,
   "metadata": {
    "collapsed": false
   },
   "outputs": [],
   "source": [
    "##modify function for application\n",
    "\n",
    "def lda_generator(data_samples, n_top_words, n_topics):\n",
    "    n_features = 100\n",
    "    data_samples = data_samples\n",
    "    n_topics = n_topics\n",
    "    n_top_words = n_top_words\n",
    "    \n",
    "    tf_vectorizer = CountVectorizer(max_df=0.95, min_df=.01,ngram_range=(1,2), max_features=n_features)\n",
    "    \n",
    "    tf_matrix = tf_vectorizer.fit_transform(data_samples)\n",
    "    \n",
    "    lda = LatentDirichletAllocation(n_topics=n_topics, max_iter=10,\n",
    "                                learning_method='online', learning_offset=50.,\n",
    "                                random_state=1)\n",
    "    lda.fit(tf_matrix)\n",
    "    \n",
    "    feature_names = tf_vectorizer.get_feature_names()\n",
    "    \n",
    "    terms_zh = []\n",
    "\n",
    "    \n",
    "    for topic_idx, topic in enumerate(lda.components_):\n",
    "        lda_topics = (\" \".join([feature_names[i] for i in topic.argsort()[:-n_top_words:-1]]))\n",
    "        print(lda_topics)\n",
    "        terms_zh.append(lda_topics)\n",
    "        \n",
    "    return terms_zh\n"
   ]
  },
  {
   "cell_type": "code",
   "execution_count": null,
   "metadata": {
    "collapsed": false
   },
   "outputs": [],
   "source": [
    "test = lda_generator(weibo.text, 10, 5)"
   ]
  },
  {
   "cell_type": "markdown",
   "metadata": {},
   "source": [
    "### LDA Visual"
   ]
  },
  {
   "cell_type": "markdown",
   "metadata": {},
   "source": [
    "### dataframe of tf-idf matrix"
   ]
  },
  {
   "cell_type": "code",
   "execution_count": null,
   "metadata": {
    "collapsed": true
   },
   "outputs": [],
   "source": [
    "def vector_df(corpus):\n",
    "    vectorizer = CountVectorizer(ngram_range=(1,2))\n",
    "    X = vectorizer.fit_transform(corpus).toarray()\n",
    "    return pd.DataFrame(X,columns=vectorizer.get_feature_names())\n",
    "df = vector_df(weibo.text)"
   ]
  },
  {
   "cell_type": "markdown",
   "metadata": {},
   "source": [
    "### Plot elbows and K-means clusters:"
   ]
  },
  {
   "cell_type": "code",
   "execution_count": null,
   "metadata": {
    "collapsed": false,
    "scrolled": true
   },
   "outputs": [],
   "source": [
    "def plot_kmeans(data):\n",
    "    tfidf = TfidfVectorizer(min_df=.01, ngram_range=(1,2))\n",
    "    X = tfidf.fit_transform(data).todense()\n",
    "\n",
    "    ##### cluster data into K=1..10 clusters #####\n",
    "    K = range(1,10)\n",
    "\n",
    "    # scipy kmeans module for each value of k:\n",
    "    KM = [kmeans(X,k) for k in K]\n",
    "    ##list comprehension to cluster centroids\n",
    "    centroids = [cent for (cent,var) in KM]\n",
    "\n",
    "\n",
    "    # alternative: scipy.spatial.distance.cdist\n",
    "    D_k = [cdist(X, cent, 'euclidean') for cent in centroids]\n",
    "    cIdx = [np.argmin(D,axis=1) for D in D_k]\n",
    "    dist = [np.min(D,axis=1) for D in D_k]\n",
    "    avgWithinSS = [sum(d)/X.shape[0] for d in dist]\n",
    "\n",
    "    ##### plot ###\n",
    "    kIdx = 4\n",
    "\n",
    "    # elbow curve\n",
    "    fig = plt.figure()\n",
    "    ax = fig.add_subplot(111)\n",
    "    ax.plot(K, avgWithinSS, 'b*-')\n",
    "    ax.plot(K[kIdx], avgWithinSS[kIdx], marker='x', markersize=12, \n",
    "        markeredgewidth=2, markeredgecolor='r', markerfacecolor='None')\n",
    "    plt.grid(True)\n",
    "    plt.xlabel('Number of clusters')\n",
    "    plt.ylabel('Average within-cluster sum of squares')\n",
    "    plt.title('Elbow for KMeans clustering')\n",
    "\n",
    "    # scatter plot\n",
    "    fig = plt.figure()\n",
    "    ax = fig.add_subplot(111)\n",
    "    #ax.scatter(X[:,2],X[:,1], s=30, c=cIdx[k])\n",
    "    clr = ['b','g','r','c','m','y','k']\n",
    "    for i in range(K[kIdx]):\n",
    "        ind = (cIdx[kIdx]==i)\n",
    "        ax.scatter(X[ind,1],X[ind,2], s=30, c=clr[i], label='Cluster %d'%i)\n",
    "    plt.xlabel('x')\n",
    "    plt.ylabel('y')\n",
    "    plt.title('Censored Tweet Clusters with K=%d' % K[kIdx])\n",
    "    plt.legend()\n",
    "\n",
    "plot_kmeans(weibo.text)"
   ]
  },
  {
   "cell_type": "code",
   "execution_count": null,
   "metadata": {
    "collapsed": true
   },
   "outputs": [],
   "source": []
  }
 ],
 "metadata": {
  "kernelspec": {
   "display_name": "Python 2",
   "language": "python",
   "name": "python2"
  },
  "language_info": {
   "codemirror_mode": {
    "name": "ipython",
    "version": 2
   },
   "file_extension": ".py",
   "mimetype": "text/x-python",
   "name": "python",
   "nbconvert_exporter": "python",
   "pygments_lexer": "ipython2",
   "version": "2.7.11"
  }
 },
 "nbformat": 4,
 "nbformat_minor": 0
}
